{
 "cells": [
  {
   "cell_type": "code",
   "execution_count": null,
   "id": "cca985b3-bb6d-416b-894b-214b444c5eca",
   "metadata": {},
   "outputs": [],
   "source": [
    "\"\"\"Q1. What is Flask Framework? What are the advantages of Flask Framework?\n",
    "\n",
    "    Ans: Flask is a popular web application framework written in Python that provides a simple and flexible way to build \n",
    "         web applications. It is lightweight and easy to learn, making it a popular choice for beginners and experienced \n",
    "         developers alike. \n",
    "         Some advantages of using Flask include its simplicity, flexibility, and scalability. Flask allows developers to \n",
    "         quickly build web applications without getting bogged down by complex features, while still being powerful enough \n",
    "         to handle larger and more complex projects. Its modular design also allows developers to add and remove features \n",
    "         as needed, making it highly customizable. Overall, Flask is a great choice for building web applications quickly \n",
    "         and efficiently.\n",
    "\"\"\""
   ]
  },
  {
   "cell_type": "code",
   "execution_count": 3,
   "id": "c15a8213-eeff-4bc4-8097-042541c04384",
   "metadata": {},
   "outputs": [
    {
     "name": "stdout",
     "output_type": "stream",
     "text": [
      "Collecting flask\n",
      "  Downloading Flask-2.2.3-py3-none-any.whl (101 kB)\n",
      "\u001b[2K     \u001b[90m━━━━━━━━━━━━━━━━━━━━━━━━━━━━━━━━━━━━━━━\u001b[0m \u001b[32m101.8/101.8 kB\u001b[0m \u001b[31m4.6 MB/s\u001b[0m eta \u001b[36m0:00:00\u001b[0m\n",
      "\u001b[?25hCollecting itsdangerous>=2.0\n",
      "  Downloading itsdangerous-2.1.2-py3-none-any.whl (15 kB)\n",
      "Collecting Werkzeug>=2.2.2\n",
      "  Downloading Werkzeug-2.2.3-py3-none-any.whl (233 kB)\n",
      "\u001b[2K     \u001b[90m━━━━━━━━━━━━━━━━━━━━━━━━━━━━━━━━━━━━━━\u001b[0m \u001b[32m233.6/233.6 kB\u001b[0m \u001b[31m29.1 MB/s\u001b[0m eta \u001b[36m0:00:00\u001b[0m\n",
      "\u001b[?25hRequirement already satisfied: Jinja2>=3.0 in /opt/conda/lib/python3.10/site-packages (from flask) (3.1.2)\n",
      "Requirement already satisfied: click>=8.0 in /opt/conda/lib/python3.10/site-packages (from flask) (8.1.3)\n",
      "Requirement already satisfied: MarkupSafe>=2.0 in /opt/conda/lib/python3.10/site-packages (from Jinja2>=3.0->flask) (2.1.1)\n",
      "Installing collected packages: Werkzeug, itsdangerous, flask\n",
      "Successfully installed Werkzeug-2.2.3 flask-2.2.3 itsdangerous-2.1.2\n"
     ]
    }
   ],
   "source": [
    "!pip install flask"
   ]
  },
  {
   "cell_type": "code",
   "execution_count": 4,
   "id": "d444fa54-18f5-40d4-925b-305c129bafc8",
   "metadata": {},
   "outputs": [
    {
     "name": "stdout",
     "output_type": "stream",
     "text": [
      " * Serving Flask app '__main__'\n",
      " * Debug mode: off\n"
     ]
    },
    {
     "name": "stderr",
     "output_type": "stream",
     "text": [
      "WARNING: This is a development server. Do not use it in a production deployment. Use a production WSGI server instead.\n",
      " * Running on all addresses (0.0.0.0)\n",
      " * Running on http://127.0.0.1:5000\n",
      " * Running on http://172.18.0.3:5000\n",
      "Press CTRL+C to quit\n"
     ]
    },
    {
     "data": {
      "text/html": [
       "<img src=\"Question2_ScreenShot.png\" width=\"300\" height=\"300\"/>"
      ],
      "text/plain": [
       "<IPython.core.display.Image object>"
      ]
     },
     "execution_count": 4,
     "metadata": {},
     "output_type": "execute_result"
    }
   ],
   "source": [
    "\"\"\"Q2. Create a simple Flask application to display ‘Hello World!!’. Attach the screenshot of the output in Jupyter Notebook.\"\"\"\n",
    "# Ans:\n",
    "\n",
    "# Website code:\n",
    "from flask import Flask\n",
    "app = Flask(__name__)\n",
    "@app.route(\"/\")\n",
    "def hello_world():\n",
    "    return \"<h1>Hello, World!</h1>\"\n",
    "if __name__==\"__main__\":\n",
    "    app.run(host=\"0.0.0.0\")\n",
    "    \n",
    "    \n",
    "# Image:\n",
    "from IPython.display import Image\n",
    "Image(url=\"Question2_ScreenShot.png\", width=300, height=300)"
   ]
  },
  {
   "cell_type": "code",
   "execution_count": null,
   "id": "8d70801a-8e3b-48fb-bfce-fccb3eb45e15",
   "metadata": {},
   "outputs": [],
   "source": [
    "\"\"\"Q3. What is App routing in Flask? Why do we use app routes?\n",
    "\n",
    "    Ans: App routing in Flask refers to the process of mapping URLs (Uniform Resource Locators) to specific functions in your \n",
    "         web application. Essentially, it allows you to define which function will be executed when a user navigates to a \n",
    "         specific URL on your website. \n",
    "         We use app routes to create dynamic and interactive web applications. For example, when a user navigates to a specific URL, \n",
    "         we can use Flask to execute a function that retrieves data from a database, processes it, and returns the results to the \n",
    "         user in the form of a webpage. This allows us to create customized web applications that can respond to user inputs in \n",
    "         real-time.\n",
    "\n",
    "\"\"\""
   ]
  },
  {
   "cell_type": "code",
   "execution_count": 12,
   "id": "7b82c591-fb9d-43a3-bd41-d81796e4dcc2",
   "metadata": {},
   "outputs": [
    {
     "data": {
      "text/html": [
       "<img src=\"Question4_1.png\" width=\"300\" height=\"300\"/>"
      ],
      "text/plain": [
       "<IPython.core.display.Image object>"
      ]
     },
     "execution_count": 12,
     "metadata": {},
     "output_type": "execute_result"
    }
   ],
   "source": [
    "\"\"\"Q4. Create a “/welcome” route to display the welcome message “Welcome to ABC Corporation” and a “/”\n",
    "        route to show the following details:\n",
    "            Company Name: ABC Corporation\n",
    "            Location: India\n",
    "            Contact Detail: 999-999-9999\n",
    "        Attach the screenshot of the output in Jupyter Notebook.\n",
    "\"\"\"\n",
    "Ans:\n",
    "Website:\n",
    "from flask import Flask\n",
    "app = Flask(__name__)\n",
    "@app.route(\"/\")\n",
    "def Company_Details():\n",
    "    data = f\"Company Name: ABC Corporation<br>Location: India<br>Contact Detail: 999-999-9999\"\n",
    "    return data\n",
    "\n",
    "@app.route(\"/welcome\")\n",
    "def welcome():\n",
    "    return f\"Welcome to ABC Corporation\"\n",
    "if __name__==\"__main__\":\n",
    "    app.run(host=\"0.0.0.0\", debug=True)\n",
    "    \n",
    "# Images:\n",
    "from IPython.display import Image\n",
    "Image(url=\"Question4_1.png\", width=300, height=300)\n",
    "# Image(url=\"Question4_2.png\", width=300, height=300)"
   ]
  },
  {
   "cell_type": "code",
   "execution_count": 13,
   "id": "dc7ee33b-ad02-461e-b0cb-0de63832bdf5",
   "metadata": {},
   "outputs": [
    {
     "data": {
      "text/html": [
       "<img src=\"Question4_2.png\" width=\"300\" height=\"300\"/>"
      ],
      "text/plain": [
       "<IPython.core.display.Image object>"
      ]
     },
     "execution_count": 13,
     "metadata": {},
     "output_type": "execute_result"
    }
   ],
   "source": [
    "from IPython.display import Image\n",
    "Image(url=\"Question4_2.png\", width=300, height=300)"
   ]
  },
  {
   "cell_type": "code",
   "execution_count": null,
   "id": "a27b3219-e069-4d10-b892-96d72b2d43a5",
   "metadata": {},
   "outputs": [],
   "source": [
    "\"\"\"Q5. What function is used in Flask for URL Building? Write a Python code to demonstrate the working of the url_for() function.\n",
    "\n",
    "    Ans: In Flask, the \"url_for\" function is used for URL building. It generates a URL based on the name of the function and \n",
    "         the arguments provided. This allows for dynamic URL creation and avoids hard-coding of URLs, making it easier to \n",
    "         maintain and update a Flask application.\n",
    "\"\"\"\n",
    "# Demonstration:\n",
    "@app.route(\"/welcome\")\n",
    "def welcome():\n",
    "    return f\"Welcome to ABC Corporation\""
   ]
  }
 ],
 "metadata": {
  "kernelspec": {
   "display_name": "Python 3 (ipykernel)",
   "language": "python",
   "name": "python3"
  },
  "language_info": {
   "codemirror_mode": {
    "name": "ipython",
    "version": 3
   },
   "file_extension": ".py",
   "mimetype": "text/x-python",
   "name": "python",
   "nbconvert_exporter": "python",
   "pygments_lexer": "ipython3",
   "version": "3.10.8"
  }
 },
 "nbformat": 4,
 "nbformat_minor": 5
}
